{
 "cells": [
  {
   "cell_type": "code",
   "execution_count": 1,
   "id": "0a8153b9",
   "metadata": {},
   "outputs": [
    {
     "name": "stdout",
     "output_type": "stream",
     "text": [
      "Requirement already satisfied: timezonefinder in /Library/Frameworks/Python.framework/Versions/3.11/lib/python3.11/site-packages (6.4.1)\r\n",
      "Requirement already satisfied: cffi<2,>=1.15.1 in /Library/Frameworks/Python.framework/Versions/3.11/lib/python3.11/site-packages (from timezonefinder) (1.16.0)\r\n",
      "Requirement already satisfied: h3<4,>=3.7.6 in /Library/Frameworks/Python.framework/Versions/3.11/lib/python3.11/site-packages (from timezonefinder) (3.7.6)\r\n",
      "Requirement already satisfied: numpy<2,>=1.25 in /Library/Frameworks/Python.framework/Versions/3.11/lib/python3.11/site-packages (from timezonefinder) (1.26.2)\r\n",
      "Requirement already satisfied: setuptools>=65.5 in /Library/Frameworks/Python.framework/Versions/3.11/lib/python3.11/site-packages (from timezonefinder) (69.0.2)\r\n",
      "Requirement already satisfied: pycparser in /Library/Frameworks/Python.framework/Versions/3.11/lib/python3.11/site-packages (from cffi<2,>=1.15.1->timezonefinder) (2.21)\r\n"
     ]
    }
   ],
   "source": [
    "!pip install timezonefinder"
   ]
  },
  {
   "cell_type": "code",
   "execution_count": 13,
   "id": "301d28c1",
   "metadata": {},
   "outputs": [],
   "source": [
    "from timezonefinder import TimezoneFinder\n",
    "import datetime\n",
    "import pytz"
   ]
  },
  {
   "cell_type": "code",
   "execution_count": 9,
   "id": "21f4f1d6",
   "metadata": {},
   "outputs": [],
   "source": [
    "resorts = [\n",
    "    (\"Ikon\", \"Winter Park\", (39.87652886804281, -105.76577005628859)),\n",
    "    (\"Ikon\", \"Copper Mountain\", (39.49367530426312, -106.15941614917506)),\n",
    "    (\"Ikon\", \"Eldora\", (39.93747528686545, -105.58400897925249)),\n",
    "    (\"Ikon\", \"Steamboat Springs\", (40.466202977197106, -106.78094073252413)),\n",
    "    (\"Ikon\", \"Palisades Tahoe\", (39.19114916529031, -120.2557470349228)),\n",
    "    (\"Ikon\", \"Big Sky\", (45.293131560098956, -111.36294562989895)),\n",
    "    (\"Epic\", \"Northstar\", (39.25671866393303, -120.13341133625593)),\n",
    "    (\"Ikon\", \"Crystal\", (46.934754314303206, -121.48384975195034)),\n",
    "    (\"Ikon\", \"Jackson\", (43.594634283058724, -110.84610943388475)),\n",
    "    (\"Epic\", \"Breckenridge\", (39.478861079038985, -106.07839392176015)),\n",
    "    (\"Epic\", \"Vail\", (39.619779887440146, -106.36957399501661)),\n",
    "    (\"Ikon\", \"Stratton\", (43.110007073773104, -72.91026718465827)),\n",
    "    (\"Epic\", \"Whistler\", (50.073500220248334, -122.95937601933981)),\n",
    "    (\"Ikon\", \"Charmonix\", (45.96980068114292, 6.879032518531963))\n",
    "]"
   ]
  },
  {
   "cell_type": "code",
   "execution_count": 21,
   "id": "4980cb91",
   "metadata": {},
   "outputs": [],
   "source": [
    "\n",
    "def get_local_time(latitude, longitude, tf, utc_time):\n",
    "    \n",
    "    timezone = tf.timezone_at(lng=longitude, lat=latitude)\n",
    "    target_timezone = pytz.timezone(timezone)  # For example, New York time zone\n",
    "\n",
    "    # Convert UTC time to the target time zone\n",
    "    local_time = utc_time.replace(tzinfo=pytz.utc).astimezone(target_timezone)\n",
    "\n",
    "    return local_time\n"
   ]
  },
  {
   "cell_type": "code",
   "execution_count": 22,
   "id": "a63b8f8b",
   "metadata": {},
   "outputs": [
    {
     "data": {
      "text/plain": [
       "'2024_03_07_13'"
      ]
     },
     "execution_count": 22,
     "metadata": {},
     "output_type": "execute_result"
    }
   ],
   "source": [
    "local_time = datetime.datetime.now().strftime(\"%Y_%m_%d_%H\")\n",
    "local_time\n"
   ]
  },
  {
   "cell_type": "code",
   "execution_count": null,
   "id": "94f28354",
   "metadata": {},
   "outputs": [],
   "source": []
  },
  {
   "cell_type": "code",
   "execution_count": 33,
   "id": "1a7eed23",
   "metadata": {},
   "outputs": [
    {
     "name": "stdout",
     "output_type": "stream",
     "text": [
      "Winter Park\n",
      "UTC Time: 2024-03-07 18:13:22 <class 'pandas._libs.tslibs.timestamps.Timestamp'>\n",
      "Local Time: 2024-03-07 11:13:22-07:00 <class 'pandas._libs.tslibs.timestamps.Timestamp'>\n",
      "-------------------\n",
      "Copper Mountain\n",
      "UTC Time: 2024-03-07 18:13:22 <class 'pandas._libs.tslibs.timestamps.Timestamp'>\n",
      "Local Time: 2024-03-07 11:13:22-07:00 <class 'pandas._libs.tslibs.timestamps.Timestamp'>\n",
      "-------------------\n",
      "Eldora\n",
      "UTC Time: 2024-03-07 18:13:22 <class 'pandas._libs.tslibs.timestamps.Timestamp'>\n",
      "Local Time: 2024-03-07 11:13:22-07:00 <class 'pandas._libs.tslibs.timestamps.Timestamp'>\n",
      "-------------------\n",
      "Steamboat Springs\n",
      "UTC Time: 2024-03-07 18:13:22 <class 'pandas._libs.tslibs.timestamps.Timestamp'>\n",
      "Local Time: 2024-03-07 11:13:22-07:00 <class 'pandas._libs.tslibs.timestamps.Timestamp'>\n",
      "-------------------\n",
      "Palisades Tahoe\n",
      "UTC Time: 2024-03-07 18:13:22 <class 'pandas._libs.tslibs.timestamps.Timestamp'>\n",
      "Local Time: 2024-03-07 10:13:22-08:00 <class 'pandas._libs.tslibs.timestamps.Timestamp'>\n",
      "-------------------\n",
      "Big Sky\n",
      "UTC Time: 2024-03-07 18:13:22 <class 'pandas._libs.tslibs.timestamps.Timestamp'>\n",
      "Local Time: 2024-03-07 11:13:22-07:00 <class 'pandas._libs.tslibs.timestamps.Timestamp'>\n",
      "-------------------\n",
      "Northstar\n",
      "UTC Time: 2024-03-07 18:13:22 <class 'pandas._libs.tslibs.timestamps.Timestamp'>\n",
      "Local Time: 2024-03-07 10:13:22-08:00 <class 'pandas._libs.tslibs.timestamps.Timestamp'>\n",
      "-------------------\n",
      "Crystal\n",
      "UTC Time: 2024-03-07 18:13:22 <class 'pandas._libs.tslibs.timestamps.Timestamp'>\n",
      "Local Time: 2024-03-07 10:13:22-08:00 <class 'pandas._libs.tslibs.timestamps.Timestamp'>\n",
      "-------------------\n",
      "Jackson\n",
      "UTC Time: 2024-03-07 18:13:22 <class 'pandas._libs.tslibs.timestamps.Timestamp'>\n",
      "Local Time: 2024-03-07 11:13:22-07:00 <class 'pandas._libs.tslibs.timestamps.Timestamp'>\n",
      "-------------------\n",
      "Breckenridge\n",
      "UTC Time: 2024-03-07 18:13:22 <class 'pandas._libs.tslibs.timestamps.Timestamp'>\n",
      "Local Time: 2024-03-07 11:13:22-07:00 <class 'pandas._libs.tslibs.timestamps.Timestamp'>\n",
      "-------------------\n",
      "Vail\n",
      "UTC Time: 2024-03-07 18:13:22 <class 'pandas._libs.tslibs.timestamps.Timestamp'>\n",
      "Local Time: 2024-03-07 11:13:22-07:00 <class 'pandas._libs.tslibs.timestamps.Timestamp'>\n",
      "-------------------\n",
      "Stratton\n",
      "UTC Time: 2024-03-07 18:13:22 <class 'pandas._libs.tslibs.timestamps.Timestamp'>\n",
      "Local Time: 2024-03-07 13:13:22-05:00 <class 'pandas._libs.tslibs.timestamps.Timestamp'>\n",
      "-------------------\n",
      "Whistler\n",
      "UTC Time: 2024-03-07 18:13:22 <class 'pandas._libs.tslibs.timestamps.Timestamp'>\n",
      "Local Time: 2024-03-07 10:13:22-08:00 <class 'pandas._libs.tslibs.timestamps.Timestamp'>\n",
      "-------------------\n",
      "Charmonix\n",
      "UTC Time: 2024-03-07 18:13:22 <class 'pandas._libs.tslibs.timestamps.Timestamp'>\n",
      "Local Time: 2024-03-07 19:13:22+01:00 <class 'pandas._libs.tslibs.timestamps.Timestamp'>\n",
      "-------------------\n"
     ]
    }
   ],
   "source": [
    "from pandas import to_datetime\n",
    "\n",
    "tf = TimezoneFinder()\n",
    "\n",
    "utc_time = to_datetime(1709835202, unit='s')\n",
    "\n",
    "for _, r, (lat, lon) in resorts:\n",
    "    \n",
    "    local_time = get_local_time(lat, lon, tf, utc_time)\n",
    "    print(r)\n",
    "    print(\"UTC Time:\", utc_time, type(utc_time))\n",
    "    print(\"Local Time:\", local_time, type(local_time))\n",
    "    print(\"-------------------\")\n",
    "    \n"
   ]
  },
  {
   "cell_type": "code",
   "execution_count": 26,
   "id": "0ed79635",
   "metadata": {},
   "outputs": [
    {
     "data": {
      "text/plain": [
       "datetime.datetime(2024, 3, 7, 20, 50, 43, 193537)"
      ]
     },
     "execution_count": 26,
     "metadata": {},
     "output_type": "execute_result"
    }
   ],
   "source": [
    "u = datetime.datetime.utcnow()\n",
    "u"
   ]
  },
  {
   "cell_type": "code",
   "execution_count": null,
   "id": "8c621a3f",
   "metadata": {},
   "outputs": [],
   "source": []
  }
 ],
 "metadata": {
  "kernelspec": {
   "display_name": "Python 3.11.4 64-bit",
   "language": "python",
   "name": "python311464bite1aa5c644b2742129c11b7b19df59d26"
  },
  "language_info": {
   "codemirror_mode": {
    "name": "ipython",
    "version": 3
   },
   "file_extension": ".py",
   "mimetype": "text/x-python",
   "name": "python",
   "nbconvert_exporter": "python",
   "pygments_lexer": "ipython3",
   "version": "3.11.4"
  }
 },
 "nbformat": 4,
 "nbformat_minor": 5
}
